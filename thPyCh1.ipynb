{
 "cells": [
  {
   "cell_type": "markdown",
   "metadata": {},
   "source": [
    "# Think Python 2 Outline:\n"
   ]
  },
  {
   "cell_type": "markdown",
   "metadata": {},
   "source": [
    "Chapter 1"
   ]
  },
  {
   "cell_type": "markdown",
   "metadata": {},
   "source": [
    "Problem solving: the ability to formulate problems, think creatively about solutions, and express a solution clearly and accurately.  The process of learning to program is an excellent opportunity to practice these skills.  "
   ]
  },
  {
   "cell_type": "markdown",
   "metadata": {},
   "source": [
    "What is a Program?\n",
    "******\n",
    "What is it to you? ________________\n",
    "- input\n",
    "- output\n",
    "- math\n",
    "- conditional execution - if condition1 is true, do tthing 1; otherwise, do thing2\n",
    "- repetition\n",
    "    print('hello world') x 100\n",
    "    loops\n"
   ]
  },
  {
   "cell_type": "markdown",
   "metadata": {},
   "source": [
    "The Environment that you write Python:\n",
    "***\n",
    "- directly into interpreter - the REPL\n",
    "- IDLE\n",
    "- web-based eg. PythonAnywhere\n",
    "- Local Development Environment, like Sublime Text or PyCharm\n",
    "- Local/web hybrid: Jupyter"
   ]
  },
  {
   "cell_type": "code",
   "execution_count": 7,
   "metadata": {},
   "outputs": [
    {
     "name": "stdout",
     "output_type": "stream",
     "text": [
      "Hello World Mr. Hansen!\n"
     ]
    }
   ],
   "source": [
    "#First Program!\n",
    "print(\"Hello World Mr. Hansen!\")"
   ]
  },
  {
   "cell_type": "code",
   "execution_count": 12,
   "metadata": {},
   "outputs": [
    {
     "ename": "SyntaxError",
     "evalue": "invalid syntax (<ipython-input-12-386026e953d5>, line 18)",
     "output_type": "error",
     "traceback": [
      "\u001b[1;36m  File \u001b[1;32m\"<ipython-input-12-386026e953d5>\"\u001b[1;36m, line \u001b[1;32m18\u001b[0m\n\u001b[1;33m    print(1 1)\u001b[0m\n\u001b[1;37m            ^\u001b[0m\n\u001b[1;31mSyntaxError\u001b[0m\u001b[1;31m:\u001b[0m invalid syntax\n"
     ]
    }
   ],
   "source": [
    "# octothorpe \n",
    "#lines beginning with one of these are a Comment\n",
    "#Arithmetic Operators:\n",
    "print(40+2)\n",
    "print(6*7)\n",
    "print(2**3) #This is exponentiation!  ^ is XOR\n",
    "#Fill in your own: ______________\n",
    "print(\"this is epic\")\n",
    "print(\"Ethan's jupyter notebook is \\\"awesome\\\".\")\n",
    "print(\"\\\\\")\n",
    "print(4*5**7 / 34)\n",
    "print(1==3)\n",
    "print(1<2)\n",
    "print(-2)\n",
    "print(+2)\n",
    "print(2++2)\n",
    "print(09.)\n",
    "print(1 1)\n",
    "import math\n",
    "print(math.pi)\n",
    "print(math.e)"
   ]
  },
  {
   "cell_type": "markdown",
   "metadata": {},
   "source": [
    "#Values and Types:\n",
    "- String (str): a string of characters that the program spits back out. ex. print(\"25-84\") or print('25-84')\n",
    "- Integer (int): Any operation besides division\n",
    "- Floating-point (float): Decimals ex. 2.000, 3.14, 1.000000000000001\n",
    "- Binary (bin): makes comparasion to see if two numbers are equal ex. print(1==1) output: true\n",
    "- and more\n",
    "\n",
    "\n"
   ]
  },
  {
   "cell_type": "code",
   "execution_count": 3,
   "metadata": {},
   "outputs": [
    {
     "ename": "SyntaxError",
     "evalue": "invalid syntax (<ipython-input-3-a066407e14ce>, line 18)",
     "output_type": "error",
     "traceback": [
      "\u001b[1;36m  File \u001b[1;32m\"<ipython-input-3-a066407e14ce>\"\u001b[1;36m, line \u001b[1;32m18\u001b[0m\n\u001b[1;33m    Natural Languages vs. Formal Languages\u001b[0m\n\u001b[1;37m            ^\u001b[0m\n\u001b[1;31mSyntaxError\u001b[0m\u001b[1;31m:\u001b[0m invalid syntax\n"
     ]
    }
   ],
   "source": [
    "#incompatible types?\n",
    "1+1\n",
    "# \"one\"+1 #this was a string with an integer\n",
    "\"two\"+\"one\"\n",
    "\n",
    "print(\"6*7=\",6*7)\n",
    "##Casting\n",
    "mystring = \"5\"\n",
    "print(int(mystring*2)/2)\n",
    "x = 7\n",
    "print(\"word\"*7)\n",
    "print(str(x)*7)\n",
    "myfloat = 2.5\n",
    "print(int(myfloat))\n",
    "\n",
    "\n",
    "\n",
    "Natural Languages vs. Formal Languages\n",
    "- parsing / ambiguity / redundacy / literalness\n",
    "- poetry / prose / programs\n",
    "\n",
    "Semantics Vs. Syntax\n",
    "Semantics of anything - the meaning of it.\n",
    "Syntax of anything - the structure, grammer, and technical rules of it.\n",
    "\n"
   ]
  },
  {
   "cell_type": "markdown",
   "metadata": {},
   "source": [
    "Natural Languages vs. Formal Languages\n",
    " Parsing\n",
    " Ambiguity\n",
    " Redundancy\n",
    " literalness\n",
    " poetry/prose/programs\n",
    "\n",
    "Semantics vs. Syntax\n",
    "\n",
    "\n",
    "\n",
    "\n",
    "Debugging\n"
   ]
  },
  {
   "cell_type": "markdown",
   "metadata": {},
   "source": [
    "*******\n",
    "---Exercises----\n",
    "***"
   ]
  },
  {
   "cell_type": "markdown",
   "metadata": {},
   "source": [
    "Exercise 1\n",
    "- 1) In a print statement, what happens if you leave out one or both of the parentheses?\n",
    "A syntax error will be created as an output.\n",
    "- 2) If you are trying to print a string, what happens if you leave out one/both of the quotation marks (or apostrophes)?\n",
    "A syntax error will be created as an output.\n",
    "- 3) You can use a minus sign to make a negative number like -2. What happens if you put a plus sign before a number? What about 2++2?\n",
    "When putting a plus sign before a number, the number will come out as positive (For example: +2 will output as 2). 2++2 is processed as 2 plus positive 2 so 4 will be the output.\n",
    "- 4) In math notation, leading zeros are ok, as in 09. What happens if you try this in Python? What about 011?\n",
    "Leading zeroes are allowed if there is a decimal in the number. Otherwise, there will be a syntax error.\n",
    "- 5) What happens if you have two values with no operator between them?\n",
    "If there is just a blank space between values, there will be a syntax error. If there isn't a space, the values will combine into one number (ex. 11 will be output as eleven and 1 1 will be output as a syntax error)."
   ]
  },
  {
   "cell_type": "markdown",
   "metadata": {},
   "source": [
    "Exercise 2\n",
    "See text!"
   ]
  },
  {
   "cell_type": "code",
   "execution_count": null,
   "metadata": {},
   "outputs": [],
   "source": []
  }
 ],
 "metadata": {
  "kernelspec": {
   "display_name": "Python 3",
   "language": "python",
   "name": "python3"
  },
  "language_info": {
   "codemirror_mode": {
    "name": "ipython",
    "version": 3
   },
   "file_extension": ".py",
   "mimetype": "text/x-python",
   "name": "python",
   "nbconvert_exporter": "python",
   "pygments_lexer": "ipython3",
   "version": "3.8.3"
  }
 },
 "nbformat": 4,
 "nbformat_minor": 4
}
